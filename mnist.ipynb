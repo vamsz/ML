{
  "nbformat": 4,
  "nbformat_minor": 0,
  "metadata": {
    "colab": {
      "provenance": [],
      "toc_visible": true
    },
    "kernelspec": {
      "name": "python3",
      "display_name": "Python 3"
    },
    "language_info": {
      "name": "python"
    }
  },
  "cells": [
    {
      "cell_type": "code",
      "execution_count": null,
      "metadata": {
        "id": "72GFbF02wUkr"
      },
      "outputs": [],
      "source": [
        "import numpy as np\n",
        "from matplotlib import pyplot as plt\n",
        "import time\n",
        "import pandas as pd"
      ]
    },
    {
      "cell_type": "code",
      "source": [
        "x_train = \"/content/drive/MyDrive/train-images.idx3-ubyte\"\n",
        "y_train = \"/content/drive/MyDrive/train-labels.idx1-ubyte\"\n",
        "x_test = \"/content/drive/MyDrive/t10k-images.idx3-ubyte\"\n",
        "y_test = \"/content/drive/MyDrive/t10k-labels.idx1-ubyte\""
      ],
      "metadata": {
        "id": "7F42JUrMy36p"
      },
      "execution_count": null,
      "outputs": []
    },
    {
      "cell_type": "code",
      "source": [
        "def create_csv(img,labels,outf,n):\n",
        "  imgf = open(img,\"rb\")\n",
        "  lblf = open(labels, \"rb\")\n",
        "  csvf = open(outf, \"w\")\n",
        "\n",
        "  imgf.read(16)\n",
        "  lblf.read(8)\n",
        "  images = []\n",
        "\n",
        "  for i in range(n):\n",
        "        image = [ord(lblf.read(1))]\n",
        "        for j in range(784):\n",
        "            image.append(ord(imgf.read(1)))\n",
        "        images.append(image)\n",
        "\n",
        "  for image in images:\n",
        "      csvf.write(\",\".join(str(i) for i in image)+\"\\n\")\n",
        "  imgf.close()\n",
        "  lblf.close()\n",
        "  csvf.close()"
      ],
      "metadata": {
        "id": "2SrZEIae0eic"
      },
      "execution_count": null,
      "outputs": []
    },
    {
      "cell_type": "code",
      "source": [
        "create_csv(x_train, y_train, \"/content/train.csv\",60000)\n",
        "create_csv(x_test,y_test, \"/content/test.csv\",10000)"
      ],
      "metadata": {
        "id": "wVmpN9U-1jsq"
      },
      "execution_count": null,
      "outputs": []
    },
    {
      "cell_type": "code",
      "source": [
        "data = pd.read_csv('/content/train.csv')\n",
        "data_test = pd.read_csv(\"/content/test.csv\")\n"
      ],
      "metadata": {
        "id": "FDjeQ--317tN"
      },
      "execution_count": null,
      "outputs": []
    },
    {
      "cell_type": "code",
      "source": [
        "data = np.array(data)\n",
        "data_test = np.array(data_test)\n",
        "m_t, n_t = data_test.shape\n",
        "m, n = data.shape\n",
        "np.random.shuffle(data)"
      ],
      "metadata": {
        "id": "5R4cMtFO4AMk"
      },
      "execution_count": null,
      "outputs": []
    },
    {
      "cell_type": "code",
      "source": [
        "data_test = data_test.T\n",
        "Y_test = data_test[0]\n",
        "X_test = data_test[1:n]\n",
        "X_test = X_test / 255.\n",
        "\n",
        "data_train = data.T\n",
        "Y_train = data_train[0]\n",
        "X_train = data_train[1:n]\n",
        "X_train = X_train / 255.\n",
        "_,m_train = X_train.shape"
      ],
      "metadata": {
        "id": "b6ljUzB45eXG"
      },
      "execution_count": null,
      "outputs": []
    },
    {
      "cell_type": "code",
      "source": [
        "def parameters():\n",
        "    W1 = np.random.rand(10, 784) - 0.5\n",
        "    b1 = np.random.rand(10, 1) - 0.5\n",
        "    W2 = np.random.rand(10, 10) - 0.5\n",
        "    b2 = np.random.rand(10, 1) - 0.5\n",
        "    return W1, b1, W2, b2\n",
        "\n"
      ],
      "metadata": {
        "id": "Pbdogc965mYe"
      },
      "execution_count": null,
      "outputs": []
    },
    {
      "cell_type": "code",
      "source": [
        "def ReLU(Z):\n",
        "    return np.maximum(Z, 0)\n",
        "\n",
        "def softmax(Z):\n",
        "    A = np.exp(Z) / sum(np.exp(Z))\n",
        "    return A\n",
        "\n",
        "def forward_prop(W1, b1, W2, b2, X):\n",
        "    Z1 = W1.dot(X) + b1\n",
        "    A1 = ReLU(Z1)\n",
        "    Z2 = W2.dot(A1) + b2\n",
        "    A2 = softmax(Z2)\n",
        "    return Z1, A1, Z2, A2\n",
        "\n",
        "def d_relu(Z):\n",
        "    return Z > 0\n",
        "\n",
        "def one_hot(Y):\n",
        "    one_hot_Y = np.zeros((Y.size, Y.max() + 1))\n",
        "    one_hot_Y[np.arange(Y.size), Y] = 1\n",
        "    one_hot_Y = one_hot_Y.T\n",
        "    return one_hot_Y\n",
        "\n",
        "def backward_prop(Z1, A1, Z2, A2, W1, W2, X, Y):\n",
        "    one_hot_Y = one_hot(Y)\n",
        "    dZ2 = A2 - one_hot_Y\n",
        "    dW2 = 1 / m * dZ2.dot(A1.T)\n",
        "    db2 = 1 / m * np.sum(dZ2)\n",
        "    dZ1 = W2.T.dot(dZ2) * d_relu(Z1)\n",
        "    dW1 = 1 / m * dZ1.dot(X.T)\n",
        "    db1 = 1 / m * np.sum(dZ1)\n",
        "    return dW1, db1, dW2, db2\n",
        "\n",
        "def update_params(W1, b1, W2, b2, dW1, db1, dW2, db2, alpha):\n",
        "    W1 = W1 - alpha * dW1\n",
        "    b1 = b1 - alpha * db1\n",
        "    W2 = W2 - alpha * dW2\n",
        "    b2 = b2 - alpha * db2\n",
        "    return W1, b1, W2, b2"
      ],
      "metadata": {
        "id": "KiZYuGDe5uH3"
      },
      "execution_count": null,
      "outputs": []
    },
    {
      "cell_type": "code",
      "source": [
        "def get_predictions(A2):\n",
        "    return np.argmax(A2, 0)\n",
        "\n",
        "def get_accuracy(predictions, Y):\n",
        "    print(predictions, Y)\n",
        "    return np.sum(predictions == Y) / Y.size\n",
        "\n",
        "def gradient_descent(X, Y, alpha, iterations):\n",
        "    W1, b1, W2, b2 = parameters()\n",
        "    for i in range(iterations):\n",
        "        Z1, A1, Z2, A2 = forward_prop(W1, b1, W2, b2, X)\n",
        "        dW1, db1, dW2, db2 = backward_prop(Z1, A1, Z2, A2, W1, W2, X, Y)\n",
        "        W1, b1, W2, b2 = update_params(W1, b1, W2, b2, dW1, db1, dW2, db2, alpha)\n",
        "        if i % 10 == 0:\n",
        "            print(\"Iteration: \", i)\n",
        "            predictions = get_predictions(A2)\n",
        "            print(get_accuracy(predictions, Y))\n",
        "    return W1, b1, W2, b2"
      ],
      "metadata": {
        "id": "-NmTjNkn54Ev"
      },
      "execution_count": null,
      "outputs": []
    },
    {
      "cell_type": "code",
      "source": [
        "W1, b1, W2, b2 = gradient_descent(X_train, Y_train, 0.2, 500)"
      ],
      "metadata": {
        "colab": {
          "base_uri": "https://localhost:8080/"
        },
        "id": "HIcPRaJZ58lQ",
        "outputId": "8f58dc05-0ecc-4aea-f4d8-d8740082d769"
      },
      "execution_count": null,
      "outputs": [
        {
          "output_type": "stream",
          "name": "stdout",
          "text": [
            "Iteration:  0\n",
            "[4 4 4 ... 3 4 4] [6 0 5 ... 9 8 5]\n",
            "0.08416806946782446\n",
            "Iteration:  10\n",
            "[4 3 9 ... 6 3 2] [6 0 5 ... 9 8 5]\n",
            "0.23015383589726496\n",
            "Iteration:  20\n",
            "[4 6 7 ... 6 3 2] [6 0 5 ... 9 8 5]\n",
            "0.3265054417573626\n",
            "Iteration:  30\n",
            "[4 6 7 ... 6 3 2] [6 0 5 ... 9 8 5]\n",
            "0.38007300121668697\n",
            "Iteration:  40\n",
            "[6 6 7 ... 6 3 2] [6 0 5 ... 9 8 5]\n",
            "0.5013583559725996\n",
            "Iteration:  50\n",
            "[6 6 1 ... 6 3 2] [6 0 5 ... 9 8 5]\n",
            "0.5678261304355072\n",
            "Iteration:  60\n",
            "[6 6 1 ... 9 3 2] [6 0 5 ... 9 8 5]\n",
            "0.6128935482258038\n",
            "Iteration:  70\n",
            "[6 6 1 ... 9 3 2] [6 0 5 ... 9 8 5]\n",
            "0.6471607860131002\n",
            "Iteration:  80\n",
            "[6 6 1 ... 9 3 3] [6 0 5 ... 9 8 5]\n",
            "0.6750779179652994\n",
            "Iteration:  90\n",
            "[6 6 1 ... 9 3 3] [6 0 5 ... 9 8 5]\n",
            "0.6988783146385773\n",
            "Iteration:  100\n",
            "[6 6 1 ... 9 3 5] [6 0 5 ... 9 8 5]\n",
            "0.7204786746445774\n",
            "Iteration:  110\n",
            "[6 6 1 ... 9 3 5] [6 0 5 ... 9 8 5]\n",
            "0.738595643260721\n",
            "Iteration:  120\n",
            "[6 6 1 ... 9 3 5] [6 0 5 ... 9 8 5]\n",
            "0.7544125735428924\n",
            "Iteration:  130\n",
            "[6 6 1 ... 9 3 5] [6 0 5 ... 9 8 5]\n",
            "0.7685128085468091\n",
            "Iteration:  140\n",
            "[6 6 1 ... 9 3 5] [6 0 5 ... 9 8 5]\n",
            "0.7805463424390406\n",
            "Iteration:  150\n",
            "[6 6 1 ... 9 3 5] [6 0 5 ... 9 8 5]\n",
            "0.7896464941082352\n",
            "Iteration:  160\n",
            "[6 6 1 ... 9 3 5] [6 0 5 ... 9 8 5]\n",
            "0.7981799696661611\n",
            "Iteration:  170\n",
            "[6 6 1 ... 9 3 5] [6 0 5 ... 9 8 5]\n",
            "0.8054800913348555\n",
            "Iteration:  180\n",
            "[6 6 1 ... 9 3 5] [6 0 5 ... 9 8 5]\n",
            "0.812113535225587\n",
            "Iteration:  190\n",
            "[6 6 1 ... 9 3 5] [6 0 5 ... 9 8 5]\n",
            "0.817263621060351\n",
            "Iteration:  200\n",
            "[6 6 1 ... 9 3 5] [6 0 5 ... 9 8 5]\n",
            "0.8219136985616426\n",
            "Iteration:  210\n",
            "[6 6 1 ... 9 3 5] [6 0 5 ... 9 8 5]\n",
            "0.8263637727295455\n",
            "Iteration:  220\n",
            "[6 6 1 ... 9 3 5] [6 0 5 ... 9 8 5]\n",
            "0.8304971749529159\n",
            "Iteration:  230\n",
            "[6 6 1 ... 9 3 5] [6 0 5 ... 9 8 5]\n",
            "0.8336138935648928\n",
            "Iteration:  240\n",
            "[6 6 1 ... 9 3 5] [6 0 5 ... 9 8 5]\n",
            "0.8366472774546242\n",
            "Iteration:  250\n",
            "[6 6 1 ... 9 3 5] [6 0 5 ... 9 8 5]\n",
            "0.839747329122152\n",
            "Iteration:  260\n",
            "[6 6 1 ... 9 3 5] [6 0 5 ... 9 8 5]\n",
            "0.8426140435673928\n",
            "Iteration:  270\n",
            "[6 6 1 ... 9 3 5] [6 0 5 ... 9 8 5]\n",
            "0.8452974216236937\n",
            "Iteration:  280\n",
            "[6 6 1 ... 9 3 5] [6 0 5 ... 9 8 5]\n",
            "0.8476974616243604\n",
            "Iteration:  290\n",
            "[6 6 1 ... 9 3 5] [6 0 5 ... 9 8 5]\n",
            "0.8500141669027818\n",
            "Iteration:  300\n",
            "[6 6 5 ... 9 3 5] [6 0 5 ... 9 8 5]\n",
            "0.8523475391256521\n",
            "Iteration:  310\n",
            "[6 6 5 ... 9 3 5] [6 0 5 ... 9 8 5]\n",
            "0.8544975749595827\n",
            "Iteration:  320\n",
            "[6 6 5 ... 9 3 5] [6 0 5 ... 9 8 5]\n",
            "0.8562309371822864\n",
            "Iteration:  330\n",
            "[6 4 5 ... 9 3 5] [6 0 5 ... 9 8 5]\n",
            "0.8580476341272355\n",
            "Iteration:  340\n",
            "[6 4 5 ... 9 3 5] [6 0 5 ... 9 8 5]\n",
            "0.8598309971832864\n",
            "Iteration:  350\n",
            "[6 4 5 ... 9 3 5] [6 0 5 ... 9 8 5]\n",
            "0.8612643544059068\n",
            "Iteration:  360\n",
            "[6 4 5 ... 9 3 5] [6 0 5 ... 9 8 5]\n",
            "0.8622977049617494\n",
            "Iteration:  370\n",
            "[6 4 5 ... 9 3 5] [6 0 5 ... 9 8 5]\n",
            "0.8634810580176336\n",
            "Iteration:  380\n",
            "[6 4 5 ... 9 3 5] [6 0 5 ... 9 8 5]\n",
            "0.8646644110735179\n",
            "Iteration:  390\n",
            "[6 4 5 ... 9 3 5] [6 0 5 ... 9 8 5]\n",
            "0.865797763296055\n",
            "Iteration:  400\n",
            "[6 4 5 ... 9 3 5] [6 0 5 ... 9 8 5]\n",
            "0.8670311171852865\n",
            "Iteration:  410\n",
            "[6 4 5 ... 9 3 5] [6 0 5 ... 9 8 5]\n",
            "0.868064467741129\n",
            "Iteration:  420\n",
            "[6 4 5 ... 9 3 5] [6 0 5 ... 9 8 5]\n",
            "0.8692478207970132\n",
            "Iteration:  430\n",
            "[6 4 5 ... 9 3 5] [6 0 5 ... 9 8 5]\n",
            "0.8702145035750596\n",
            "Iteration:  440\n",
            "[6 4 5 ... 9 3 5] [6 0 5 ... 9 8 5]\n",
            "0.8711311855197587\n",
            "Iteration:  450\n",
            "[6 4 5 ... 9 3 5] [6 0 5 ... 9 8 5]\n",
            "0.8720478674644577\n",
            "Iteration:  460\n",
            "[6 4 5 ... 9 3 5] [6 0 5 ... 9 8 5]\n",
            "0.8726812113535226\n",
            "Iteration:  470\n",
            "[6 4 5 ... 9 3 5] [6 0 5 ... 9 8 5]\n",
            "0.8732812213536892\n",
            "Iteration:  480\n",
            "[6 4 5 ... 9 3 5] [6 0 5 ... 9 8 5]\n",
            "0.8740145669094485\n",
            "Iteration:  490\n",
            "[6 4 5 ... 9 3 5] [6 0 5 ... 9 8 5]\n",
            "0.8749645827430457\n"
          ]
        }
      ]
    },
    {
      "cell_type": "markdown",
      "source": [],
      "metadata": {
        "id": "mSS408sa6JZg"
      }
    },
    {
      "cell_type": "code",
      "source": [
        "def make_predictions(X, W1, b1, W2, b2):\n",
        "    _, _, _, A2 = forward_prop(W1, b1, W2, b2, X)\n",
        "    predictions = get_predictions(A2)\n",
        "    return predictions\n",
        "\n",
        "def test_prediction(index, W1, b1, W2, b2):\n",
        "    current_image = X_test[:, index, None]\n",
        "    prediction = make_predictions(X_test[:, index, None], W1, b1, W2, b2)\n",
        "    label = Y_test[index]\n",
        "    print(\"Prediction: \", prediction)\n",
        "    print(\"Label: \", label)\n",
        "\n",
        "    current_image = current_image.reshape((28, 28)) * 255\n",
        "    plt.gray()\n",
        "    plt.imshow(current_image, interpolation='nearest')\n",
        "    plt.show()"
      ],
      "metadata": {
        "id": "NSNMNPw37fqj"
      },
      "execution_count": null,
      "outputs": []
    },
    {
      "cell_type": "code",
      "source": [
        "# test_prediction(0, W1, b1, W2, b2)\n",
        "# test_prediction(1, W1, b1, W2, b2)\n",
        "# test_prediction(2, W1, b1, W2, b2)\n",
        "test_prediction(99, W1, b1, W2, b2) #index can vary from 0 to 9998"
      ],
      "metadata": {
        "colab": {
          "base_uri": "https://localhost:8080/",
          "height": 466
        },
        "id": "XdnTCw0C7mlF",
        "outputId": "241a139f-ca27-42d4-994b-9d1c989b1696"
      },
      "execution_count": null,
      "outputs": [
        {
          "output_type": "stream",
          "name": "stdout",
          "text": [
            "Prediction:  [6]\n",
            "Label:  6\n"
          ]
        },
        {
          "output_type": "display_data",
          "data": {
            "text/plain": [
              "<Figure size 640x480 with 1 Axes>"
            ],
            "image/png": "[encoded data removed]"
          },
          "metadata": {}
        }
      ]
    },
    {
      "cell_type": "code",
      "source": [
        "test_predictions = make_predictions(X_test, W1, b1, W2, b2)\n",
        "get_accuracy(test_predictions, Y_test) #accuracy of the test set"
      ],
      "metadata": {
        "colab": {
          "base_uri": "https://localhost:8080/"
        },
        "id": "4r-r4k71D8bp",
        "outputId": "edfc6401-1e8c-4a07-da2b-09b87a083a2f"
      },
      "execution_count": null,
      "outputs": [
        {
          "output_type": "stream",
          "name": "stdout",
          "text": [
            "[2 1 0 ... 4 5 6] [2 1 0 ... 4 5 6]\n"
          ]
        },
        {
          "output_type": "execute_result",
          "data": {
            "text/plain": [
              "0.8780878087808781"
            ]
          },
          "metadata": {},
          "execution_count": 14
        }
      ]
    },
    {
      "cell_type": "code",
      "source": [],
      "metadata": {
        "id": "SYAf9kDg2TS2"
      },
      "execution_count": null,
      "outputs": []
    }
  ]
}